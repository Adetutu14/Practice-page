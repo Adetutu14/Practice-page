{
 "cells": [
  {
   "cell_type": "code",
   "execution_count": 8,
   "metadata": {},
   "outputs": [
    {
     "name": "stdout",
     "output_type": "stream",
     "text": [
      "1\n",
      "2\n",
      "3\n",
      "4\n",
      "5\n",
      "6\n",
      "7\n",
      "8\n",
      "9\n",
      "10\n",
      "11\n",
      "12\n",
      "13\n",
      "14\n",
      "15\n",
      "16\n",
      "17\n",
      "18\n",
      "19\n",
      "20\n"
     ]
    }
   ],
   "source": [
    "#A loop statement that prints out numbers between 1 and 20 which includes 20\n",
    "\n",
    "first_number = 1\n",
    "while first_number <= 20:\n",
    "    print(first_number)\n",
    "    first_number += 1\n",
    "\n",
    "    "
   ]
  },
  {
   "cell_type": "code",
   "execution_count": 1,
   "metadata": {},
   "outputs": [
    {
     "data": {
      "text/plain": [
       "<list_reverseiterator at 0x1f7a0c44520>"
      ]
     },
     "execution_count": 1,
     "metadata": {},
     "output_type": "execute_result"
    }
   ],
   "source": [
    "\n",
    " fruit = [\"apple\", \"guava\", \"orange\", \"banana\", \"watermelon\"]\n",
    "    \n",
    "reversed(fruit)"
   ]
  },
  {
   "cell_type": "code",
   "execution_count": 13,
   "metadata": {},
   "outputs": [
    {
     "data": {
      "text/plain": [
       "list_reverseiterator"
      ]
     },
     "execution_count": 13,
     "metadata": {},
     "output_type": "execute_result"
    }
   ],
   "source": [
    "type (reversed(fruit))"
   ]
  },
  {
   "cell_type": "code",
   "execution_count": 21,
   "metadata": {},
   "outputs": [
    {
     "name": "stdout",
     "output_type": "stream",
     "text": [
      " watermelon has a total 10numbers \n",
      " banana has a total 6numbers \n",
      " orange has a total 6numbers \n",
      " guava has a total 5numbers \n",
      " apple has a total 5numbers \n"
     ]
    }
   ],
   "source": [
    " \n",
    "    for favourite in reversed(fruit):\n",
    "        print(f\" {favourite} has a total {len(favourite)}numbers \")"
   ]
  },
  {
   "cell_type": "code",
   "execution_count": 1,
   "metadata": {},
   "outputs": [
    {
     "name": "stdout",
     "output_type": "stream",
     "text": [
      "30\n",
      "32\n",
      "34\n",
      "36\n",
      "38\n",
      "40\n",
      "42\n",
      "44\n",
      "46\n",
      "48\n",
      "50\n",
      "52\n",
      "54\n",
      "56\n",
      "58\n",
      "60\n",
      "62\n",
      "64\n",
      "66\n",
      "68\n",
      "70\n"
     ]
    }
   ],
   "source": [
    "#return even numbers between 30 and 70 which includes 70\n",
    "\n",
    "First_nunber = 30\n",
    "\n",
    "for even in range(30,70+1):\n",
    "    if even % 2 == 0:\n",
    "        print(even)\n",
    "    \n"
   ]
  },
  {
   "cell_type": "code",
   "execution_count": 20,
   "metadata": {},
   "outputs": [
    {
     "name": "stdout",
     "output_type": "stream",
     "text": [
      " 5 * 1 = 5 \n",
      " 5 * 2 = 10 \n",
      " 5 * 3 = 15 \n",
      " 5 * 4 = 20 \n",
      " 5 * 5 = 25 \n",
      " 5 * 6 = 30 \n",
      " 5 * 7 = 35 \n",
      " 5 * 8 = 40 \n",
      " 5 * 9 = 45 \n",
      " 5 * 10 = 50 \n",
      " 5 * 11 = 55 \n",
      " 5 * 12 = 60 \n"
     ]
    }
   ],
   "source": [
    "#The multiplication table of 5 is \n",
    "first_num = 1\n",
    "five = 5\n",
    "for multiplier in range(1,12+1):\n",
    "    print(f\" 5 * {first_num} = {five * multiplier} \")\n",
    "    first_num +=1\n",
    "        \n",
    "    "
   ]
  },
  {
   "cell_type": "code",
   "execution_count": 30,
   "metadata": {},
   "outputs": [
    {
     "name": "stdout",
     "output_type": "stream",
     "text": [
      "5\n",
      "10\n",
      "15\n",
      "20\n",
      "25\n",
      "30\n",
      "35\n",
      "40\n",
      "45\n",
      "50\n",
      "55\n",
      "60\n"
     ]
    }
   ],
   "source": [
    "five_multiples = 1\n",
    "while five_multiples <= 12:\n",
    "    print(five_multiples*5)\n",
    "    five_multiples += 1\n"
   ]
  },
  {
   "cell_type": "code",
   "execution_count": null,
   "metadata": {},
   "outputs": [],
   "source": [
    "import sys\n",
    " \n",
    "print(sys.argv)"
   ]
  },
  {
   "cell_type": "code",
   "execution_count": 14,
   "metadata": {},
   "outputs": [
    {
     "name": "stdout",
     "output_type": "stream",
     "text": [
      "Enter the number: 5\n",
      "The factorial of  5 is:  120\n"
     ]
    }
   ],
   "source": [
    "num_input = input(\"Enter the number: \")\n",
    "num  = int(num_input)\n",
    "\n",
    "def num_factorial(num):\n",
    "    factorial = 1\n",
    "    if num == 0 or num == 1:\n",
    "        factorial = 1\n",
    "    for digit in range (1, num+1):\n",
    "        factorial *= digit\n",
    "    return factorial\n",
    "    \n",
    "result = num_factorial(num)\n",
    "print (\"The factorial of \", num, \"is: \",result)"
   ]
  },
  {
   "cell_type": "code",
   "execution_count": 29,
   "metadata": {},
   "outputs": [
    {
     "ename": "SyntaxError",
     "evalue": "invalid syntax (<ipython-input-29-5b1a89af8b17>, line 1)",
     "output_type": "error",
     "traceback": [
      "\u001b[1;36m  File \u001b[1;32m\"<ipython-input-29-5b1a89af8b17>\"\u001b[1;36m, line \u001b[1;32m1\u001b[0m\n\u001b[1;33m    print(type(sys.argv))v\u001b[0m\n\u001b[1;37m                         ^\u001b[0m\n\u001b[1;31mSyntaxError\u001b[0m\u001b[1;31m:\u001b[0m invalid syntax\n"
     ]
    }
   ],
   "source": [
    "print(type(sys.argv))"
   ]
  },
  {
   "cell_type": "code",
   "execution_count": 9,
   "metadata": {},
   "outputs": [
    {
     "name": "stdout",
     "output_type": "stream",
     "text": [
      " The total length i'm expecting is 2\n",
      " The total length i'm expecting is 99\n"
     ]
    }
   ],
   "source": [
    "word_length = 0\n",
    "\n",
    "for arg in sys.argv[1:]:\n",
    "    word_length += len(arg)\n",
    "    \n",
    "    print (f\" The total length i'm expecting is {word_length}\")"
   ]
  },
  {
   "cell_type": "code",
   "execution_count": 2,
   "metadata": {},
   "outputs": [
    {
     "name": "stdout",
     "output_type": "stream",
     "text": [
      "asta\n"
     ]
    }
   ],
   "source": [
    "food = \"pasta\"\n",
    "print(food.lstrip(\"p\"))"
   ]
  },
  {
   "cell_type": "code",
   "execution_count": 18,
   "metadata": {},
   "outputs": [
    {
     "name": "stdout",
     "output_type": "stream",
     "text": [
      "12.33%\n"
     ]
    }
   ],
   "source": [
    "number= .123345\n",
    "print(format(number, \".2%\"))"
   ]
  },
  {
   "cell_type": "code",
   "execution_count": 20,
   "metadata": {},
   "outputs": [
    {
     "name": "stdout",
     "output_type": "stream",
     "text": [
      "pasta and fried chicken\n"
     ]
    }
   ],
   "source": [
    "print(\"pasta \". __add__(\"and fried chicken\"))"
   ]
  },
  {
   "cell_type": "code",
   "execution_count": 44,
   "metadata": {},
   "outputs": [
    {
     "name": "stdout",
     "output_type": "stream",
     "text": [
      "['silver', 'aluminium', 'copper']\n"
     ]
    }
   ],
   "source": [
    "#using filter functions\n",
    "\n",
    "metals = [\"gold\", \"silver\", \"aluminium\", \"copper\"]\n",
    "\n",
    "new_metal = [metal for metal in metals if len(metal) > 5]\n",
    "\n",
    "print(new_metal)\n",
    "\n"
   ]
  },
  {
   "cell_type": "code",
   "execution_count": 45,
   "metadata": {},
   "outputs": [
    {
     "name": "stdout",
     "output_type": "stream",
     "text": [
      "['silver', 'aluminium', 'copper']\n"
     ]
    }
   ],
   "source": [
    "def special_metals(metal):\n",
    "    \n",
    "    \n",
    "    return len(metal) > 5\n",
    "print(list(filter(special_metals , metals)))"
   ]
  },
  {
   "cell_type": "code",
   "execution_count": 52,
   "metadata": {},
   "outputs": [
    {
     "name": "stdout",
     "output_type": "stream",
     "text": [
      "['gold', 'silver', 'aluminium', 'copper']\n"
     ]
    }
   ],
   "source": [
    "def special_metals(metal):\n",
    "    \n",
    "    return (metal)\n",
    "\n",
    "print(list(filter(special_metals ,metals)))"
   ]
  },
  {
   "cell_type": "code",
   "execution_count": 55,
   "metadata": {},
   "outputs": [
    {
     "name": "stdout",
     "output_type": "stream",
     "text": [
      "['gold', 'silver', 'aluminium']\n"
     ]
    }
   ],
   "source": [
    "#using lambda function\n",
    "\n",
    "metals = [\"gold\", \"silver\", \"aluminium\", \"copper\"]\n",
    "\n",
    "print(list(filter(lambda word: \"l\" in word , metals)))\n",
    "\n",
    "\n"
   ]
  },
  {
   "cell_type": "code",
   "execution_count": 61,
   "metadata": {},
   "outputs": [
    {
     "name": "stdout",
     "output_type": "stream",
     "text": [
      "[False, False, True, False]\n"
     ]
    }
   ],
   "source": [
    "metals = [\"gold\", \"silver\", \"aluminium\", \"copper\"]\n",
    "\n",
    "print(list(map(lambda word: len(word) > 7 , metals)))\n",
    "\n",
    "#metals = [\"gold\", \"silver\", \"aluminium\", \"copper\"]\n",
    "\n",
    "#But,\n",
    "#print(list(filter(lambda word: len(word) > 7 , metals)))\n",
    "#output will give \"aluminium\""
   ]
  },
  {
   "cell_type": "code",
   "execution_count": 28,
   "metadata": {},
   "outputs": [
    {
     "data": {
      "text/plain": [
       "{'a': '3', 'b': '4', 'c': '5'}"
      ]
     },
     "execution_count": 28,
     "metadata": {},
     "output_type": "execute_result"
    }
   ],
   "source": [
    "dict()\n",
    "fruit = [\n",
    "    [\"a\",\"3\"],\n",
    "    [\"b\",\"4\"],\n",
    "    [\"c\",\"5\"]\n",
    "] \n",
    "\n",
    "\n",
    "dict(fruit)\n"
   ]
  },
  {
   "cell_type": "code",
   "execution_count": 33,
   "metadata": {},
   "outputs": [
    {
     "name": "stdout",
     "output_type": "stream",
     "text": [
      "Mustang\n"
     ]
    }
   ],
   "source": [
    "car = {\n",
    "  \"brand\": \"Ford\",\n",
    "  \"model\": \"Mustang\",\n",
    "  \"year\": 1964\n",
    "}\n",
    "\n",
    "x = car.setdefault(\"model\", \"Bronco\")\n",
    "\n",
    "print(x)"
   ]
  },
  {
   "cell_type": "code",
   "execution_count": 35,
   "metadata": {},
   "outputs": [
    {
     "data": {
      "text/plain": [
       "dict_values(['Ford', 'Mustang', 1964])"
      ]
     },
     "execution_count": 35,
     "metadata": {},
     "output_type": "execute_result"
    }
   ],
   "source": [
    "car.values()"
   ]
  },
  {
   "cell_type": "code",
   "execution_count": 33,
   "metadata": {},
   "outputs": [
    {
     "name": "stdout",
     "output_type": "stream",
     "text": [
      "['apple', 'apple1', 'apple2', 'apple3', 'apple4']\n"
     ]
    }
   ],
   "source": [
    "fruit = [\"apple\"]\n",
    "apple = [\"apple1\",\"apple2\", \"apple3\", \"apple4\"]\n",
    "\n",
    "for choice in apple:\n",
    "    fruit.append(choice)\n",
    "    \n",
    "print(fruit)\n",
    "    "
   ]
  },
  {
   "cell_type": "code",
   "execution_count": 35,
   "metadata": {},
   "outputs": [],
   "source": [
    "person1 = {\n",
    "  \"name\": \"John\",\n",
    "  \"age\": 36,\n",
    "  \"country\": \"Norway\"\n",
    "} \n"
   ]
  },
  {
   "cell_type": "code",
   "execution_count": 15,
   "metadata": {},
   "outputs": [
    {
     "name": "stdout",
     "output_type": "stream",
     "text": [
      "ABCDEFGHIJKLMNOPQRSTUVWXYZ\n",
      "0123456789\n",
      "Tutu Adejuyigbe\n"
     ]
    }
   ],
   "source": [
    "import string\n",
    "\n",
    "print(string.ascii_uppercase)\n",
    "print(string.digits)\n",
    "\n",
    "print(string.capwords(\"tutu adejuyigbe\"))"
   ]
  },
  {
   "cell_type": "code",
   "execution_count": 17,
   "metadata": {},
   "outputs": [
    {
     "data": {
      "text/plain": [
       "5"
      ]
     },
     "execution_count": 17,
     "metadata": {},
     "output_type": "execute_result"
    }
   ],
   "source": [
    "import math\n",
    "\n",
    "math.sqrt(49)\n",
    "math.ceil(5.9)\n",
    "math.floor(5.9)"
   ]
  },
  {
   "cell_type": "code",
   "execution_count": 52,
   "metadata": {},
   "outputs": [],
   "source": [
    "with open(\"myfile.txt\", \"w\") as myfile:\n",
    "    myfile.write(\"For multiplication table of 2!\\n\")\n",
    "    start_num = 1\n",
    "    two = 2\n",
    "    for multiples in range(1, 15+1):\n",
    "        myfile.write(f\"{two} * {start_num} = {2 * multiples} \\n\")\n",
    "        start_num +=1\n",
    "        if multiples == 12:\n",
    "            break\n",
    "            \n",
    "   "
   ]
  },
  {
   "cell_type": "code",
   "execution_count": 55,
   "metadata": {},
   "outputs": [
    {
     "name": "stdout",
     "output_type": "stream",
     "text": [
      "For multiplication table of 2!\n",
      "2 * 1 = 2 \n",
      "2 * 2 = 4 \n",
      "2 * 3 = 6 \n",
      "2 * 4 = 8 \n",
      "2 * 5 = 10 \n",
      "2 * 6 = 12 \n",
      "2 * 7 = 14 \n",
      "2 * 8 = 16 \n",
      "2 * 9 = 18 \n",
      "2 * 10 = 20 \n",
      "2 * 11 = 22 \n",
      "2 * 12 = 24 \n",
      "\n",
      "Assignment on Multiplication table by 2 completed!\n"
     ]
    }
   ],
   "source": [
    "with open(\"myfile.txt\",\"r\") as myfile:\n",
    "    print(myfile.read())\n",
    "    print(\"Assignment on Multiplication table by 2 completed!\")\n",
    "   \n",
    "    "
   ]
  },
  {
   "cell_type": "code",
   "execution_count": null,
   "metadata": {},
   "outputs": [],
   "source": []
  },
  {
   "cell_type": "code",
   "execution_count": 56,
   "metadata": {},
   "outputs": [],
   "source": [
    "import sample"
   ]
  },
  {
   "cell_type": "code",
   "execution_count": 57,
   "metadata": {},
   "outputs": [
    {
     "ename": "NameError",
     "evalue": "name 'Area' is not defined",
     "output_type": "error",
     "traceback": [
      "\u001b[1;31m---------------------------------------------------------------------------\u001b[0m",
      "\u001b[1;31mNameError\u001b[0m                                 Traceback (most recent call last)",
      "\u001b[1;32m<ipython-input-57-f6614be4d671>\u001b[0m in \u001b[0;36m<module>\u001b[1;34m\u001b[0m\n\u001b[1;32m----> 1\u001b[1;33m \u001b[0mprint\u001b[0m\u001b[1;33m(\u001b[0m\u001b[0mArea\u001b[0m\u001b[1;33m(\u001b[0m\u001b[1;36m7\u001b[0m\u001b[1;33m)\u001b[0m\u001b[1;33m)\u001b[0m\u001b[1;33m\u001b[0m\u001b[1;33m\u001b[0m\u001b[0m\n\u001b[0m",
      "\u001b[1;31mNameError\u001b[0m: name 'Area' is not defined"
     ]
    }
   ],
   "source": []
  },
  {
   "cell_type": "code",
   "execution_count": 58,
   "metadata": {},
   "outputs": [
    {
     "name": "stdout",
     "output_type": "stream",
     "text": [
      "['Area', 'PI', '__builtins__', '__cached__', '__doc__', '__file__', '__loader__', '__name__', '__package__', '__spec__', 'creator', 'per_of_tri']\n"
     ]
    }
   ],
   "source": [
    "print(dir(sample))"
   ]
  },
  {
   "cell_type": "code",
   "execution_count": 59,
   "metadata": {},
   "outputs": [
    {
     "ename": "NameError",
     "evalue": "name 'Area' is not defined",
     "output_type": "error",
     "traceback": [
      "\u001b[1;31m---------------------------------------------------------------------------\u001b[0m",
      "\u001b[1;31mNameError\u001b[0m                                 Traceback (most recent call last)",
      "\u001b[1;32m<ipython-input-59-f6614be4d671>\u001b[0m in \u001b[0;36m<module>\u001b[1;34m\u001b[0m\n\u001b[1;32m----> 1\u001b[1;33m \u001b[0mprint\u001b[0m\u001b[1;33m(\u001b[0m\u001b[0mArea\u001b[0m\u001b[1;33m(\u001b[0m\u001b[1;36m7\u001b[0m\u001b[1;33m)\u001b[0m\u001b[1;33m)\u001b[0m\u001b[1;33m\u001b[0m\u001b[1;33m\u001b[0m\u001b[0m\n\u001b[0m",
      "\u001b[1;31mNameError\u001b[0m: name 'Area' is not defined"
     ]
    }
   ],
   "source": [
    "print(Area(7))"
   ]
  },
  {
   "cell_type": "code",
   "execution_count": null,
   "metadata": {},
   "outputs": [],
   "source": []
  }
 ],
 "metadata": {
  "kernelspec": {
   "display_name": "Python 3",
   "language": "python",
   "name": "python3"
  },
  "language_info": {
   "codemirror_mode": {
    "name": "ipython",
    "version": 3
   },
   "file_extension": ".py",
   "mimetype": "text/x-python",
   "name": "python",
   "nbconvert_exporter": "python",
   "pygments_lexer": "ipython3",
   "version": "3.8.5"
  }
 },
 "nbformat": 4,
 "nbformat_minor": 4
}
